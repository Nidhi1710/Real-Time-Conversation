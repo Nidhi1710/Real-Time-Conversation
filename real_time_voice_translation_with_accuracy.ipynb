{
 "cells": [
  {
   "cell_type": "markdown",
   "metadata": {},
   "source": [
    "# Step 1: Install Required Libraries\n",
    "Run this cell to install necessary libraries.\n",
    "!pip install speechrecognition gtts transformers torch librosa\n"
   ]
  },
  {
   "cell_type": "code",
   "execution_count": null,
   "id": "f8e7717a",
   "metadata": {},
   "outputs": [],
   "source": []
  },
  {
   "cell_type": "code",
   "execution_count": null,
   "metadata": {},
   "outputs": [],
   "source": [
    "import speech_recognition as sr\n",
    "from gtts import gTTS\n",
    "import os\n",
    "from transformers import pipeline\n",
    "import time"
   ]
  },
  {
   "cell_type": "markdown",
   "metadata": {},
   "source": [
    "# Step 2: Initialize Translator\n",
    "Run this cell to load the translation models."
   ]
  },
  {
   "cell_type": "code",
   "execution_count": null,
   "metadata": {},
   "outputs": [],
   "source": [
    "translator = pipeline(\"translation\", model=\"Helsinki-NLP/opus-mt-en-es\")  # English to Spanish\n",
    "translator_reverse = pipeline(\"translation\", model=\"Helsinki-NLP/opus-mt-es-en\")  # Spanish to English"
   ]
  },
  {
   "cell_type": "markdown",
   "metadata": {},
   "source": [
    "# Step 3: Define Speech-to-Text Function\n",
    "Run this cell to define the function for speech recognition."
   ]
  },
  {
   "cell_type": "code",
   "execution_count": null,
   "metadata": {},
   "outputs": [],
   "source": [
    "def speech_to_text(language=\"en-US\"):\n",
    "    recognizer = sr.Recognizer()\n",
    "    with sr.Microphone() as source:\n",
    "        print(f\"Listening for {language}... Speak now!\")\n",
    "        try:\n",
    "            audio = recognizer.listen(source, timeout=5)\n",
    "            text = recognizer.recognize_google(audio, language=language)\n",
    "            print(f\"You said: {text}\")\n",
    "            return text\n",
    "        except sr.UnknownValueError:\n",
    "            print(\"Could not understand the audio.\")\n",
    "            return \"\"\n",
    "        except sr.RequestError as e:\n",
    "            print(f\"Error with speech recognition service: {e}\")\n",
    "            return \"\""
   ]
  },
  {
   "cell_type": "markdown",
   "metadata": {},
   "source": [
    "# Step 4: Define Translation Function\n",
    "Run this cell to define the function for text translation."
   ]
  },
  {
   "cell_type": "code",
   "execution_count": null,
   "metadata": {},
   "outputs": [],
   "source": [
    "def translate_text(text, target_language=\"es\"):\n",
    "    if target_language == \"es\":\n",
    "        result = translator(text)[0]['translation_text']\n",
    "    else:\n",
    "        result = translator_reverse(text)[0]['translation_text']\n",
    "    print(f\"Translated Text ({target_language}): {result}\")\n",
    "    return result"
   ]
  },
  {
   "cell_type": "markdown",
   "metadata": {},
   "source": [
    "# Step 5: Define Text-to-Speech Function\n",
    "Run this cell to define the function for text-to-speech conversion."
   ]
  },
  {
   "cell_type": "code",
   "execution_count": null,
   "metadata": {},
   "outputs": [],
   "source": [
    "def text_to_speech(text, language=\"es\"):\n",
    "    tts = gTTS(text, lang=language)\n",
    "    tts.save(\"output.mp3\")\n",
    "    os.system(\"start output.mp3\")  # For Windows"
   ]
  },
  {
   "cell_type": "markdown",
   "metadata": {},
   "source": [
    "# Step 6: Real-Time Conversation Loop\n",
    "Run this cell to define the conversation loop function."
   ]
  },
  {
   "cell_type": "code",
   "execution_count": null,
   "metadata": {},
   "outputs": [],
   "source": [
    "def real_time_conversation():\n",
    "    print(\"Starting real-time conversation. Press Ctrl+C to stop.\")\n",
    "    while True:\n",
    "        try:\n",
    "            # English Speaker\n",
    "            english_text = speech_to_text(language=\"en-US\")\n",
    "            if english_text:\n",
    "                spanish_translation = translate_text(english_text, target_language=\"es\")\n",
    "                text_to_speech(spanish_translation, language=\"es\")\n",
    "            # Spanish Speaker\n",
    "            spanish_text = speech_to_text(language=\"es-ES\")\n",
    "            if spanish_text:\n",
    "                english_translation = translate_text(spanish_text, target_language=\"en\")\n",
    "                text_to_speech(english_translation, language=\"en\")\n",
    "        except KeyboardInterrupt:\n",
    "            print(\"Conversation ended.\")\n",
    "            break"
   ]
  },
  {
   "cell_type": "markdown",
   "metadata": {},
   "source": [
    "# Step 7: Accuracy Evaluation Function\n",
    "Run this cell to define a function to evaluate accuracy."
   ]
  },
  {
   "cell_type": "code",
   "execution_count": null,
   "metadata": {},
   "outputs": [],
   "source": [
    "def evaluate_accuracy(test_data, target_language):\n",
    "    correct = 0\n",
    "    total = len(test_data)\n",
    "    for original_text, expected_translation in test_data:\n",
    "        if target_language == \"es\":\n",
    "            predicted_translation = translate_text(original_text, target_language=\"es\")\n",
    "        else:\n",
    "            predicted_translation = translate_text(original_text, target_language=\"en\")\n",
    "        if predicted_translation.strip().lower() == expected_translation.strip().lower():\n",
    "            correct += 1\n",
    "        else:\n",
    "            print(f\"Error: Original: {original_text}, Predicted: {predicted_translation}, Expected: {expected_translation}\")\n",
    "    accuracy = (correct / total) * 100\n",
    "    print(f\"Model Accuracy: {accuracy:.2f}%\")\n",
    "    return accuracy"
   ]
  },
  {
   "cell_type": "markdown",
   "metadata": {},
   "source": [
    "# Example Usage for Accuracy Evaluation\n",
    "Use this function to test the accuracy of the model on predefined data."
   ]
  },
  {
   "cell_type": "code",
   "execution_count": null,
   "metadata": {},
   "outputs": [],
   "source": [
    "def example_accuracy_evaluation():\n",
    "    test_data = [\n",
    "        (\"Hello, how are you?\", \"Hola, ¿cómo estás?\"),\n",
    "        (\"I am learning Python.\", \"Estoy aprendiendo Python.\"),\n",
    "        (\"What is your name?\", \"¿Cuál es tu nombre?\"),\n",
    "    ]\n",
    "    evaluate_accuracy(test_data, target_language=\"es\")"
   ]
  },
  {
   "cell_type": "markdown",
   "metadata": {},
   "source": [
    "# Step 8: Run the Program\n",
    "Run this cell to start the real-time conversation or test accuracy."
   ]
  },
  {
   "cell_type": "code",
   "execution_count": null,
   "metadata": {},
   "outputs": [],
   "source": [
    "if __name__ == \"__main__\":\n",
    "    # Uncomment below to start real-time conversation\n",
    "    # real_time_conversation()\n",
    "    # Uncomment below to test accuracy evaluation\n",
    "    # example_accuracy_evaluation()"
   ]
  }
 ],
 "metadata": {
  "kernelspec": {
   "display_name": "Python 3",
   "language": "python",
   "name": "python3"
  },
  "language_info": {
   "codemirror_mode": {
    "name": "ipython",
    "version": 3
   },
   "file_extension": ".py",
   "mimetype": "text/x-python",
   "name": "python",
   "nbconvert_exporter": "python",
   "pygments_lexer": "ipython3",
   "version": "3.8.8"
  }
 },
 "nbformat": 4,
 "nbformat_minor": 5
}
